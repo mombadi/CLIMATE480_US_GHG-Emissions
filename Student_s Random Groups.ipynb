{
 "cells": [
  {
   "cell_type": "code",
   "execution_count": 1,
   "id": "2314aa9d",
   "metadata": {},
   "outputs": [],
   "source": [
    "import pandas as pd\n",
    "import matplotlib.pyplot as plt\n",
    "import numpy as np\n",
    "import random"
   ]
  },
  {
   "cell_type": "code",
   "execution_count": 2,
   "id": "0ece80a4",
   "metadata": {},
   "outputs": [],
   "source": [
    "#student's list\n",
    "#names = pd.read_csv('/Users/ombadi/Desktop/Mo Files/Teaching/CLIMATE 480/Winter 2025/Class Roster.csv')\n",
    "#r1 = np.random.randint(0, len(names))\n",
    "#r2 = np.random.randint(0, len(names))\n",
    "#names.iloc[[r1, r2],0].values"
   ]
  },
  {
   "cell_type": "code",
   "execution_count": 4,
   "id": "681210bc",
   "metadata": {},
   "outputs": [
    {
     "name": "stdout",
     "output_type": "stream",
     "text": [
      "[['Frech, Samantha Laura']\n",
      " ['Jamsen, Lauren Kim']\n",
      " ['Melvin, Sam A']\n",
      " ['Jahateh, Betty']\n",
      " ['Paananen, Erik Allen']\n",
      " ['Morgan, Brigid']\n",
      " ['Baad, Kera Marie']]\n",
      "\n",
      "\n",
      "[['Lafreniere, Terra']\n",
      " ['Periard, Patrick Charles']\n",
      " ['Kueffner, Hannah Elizabeth']\n",
      " ['Avery, Coral']\n",
      " ['Bradbury, David Case']\n",
      " ['Jayasundera, Samantha Michaela']\n",
      " ['Marx, Isabella Maria']]\n",
      "\n",
      "\n",
      "[['Tracy, Joshua Dreon']\n",
      " ['Pytell, Emily Elizabeth']\n",
      " ['Roach, Ebony D']\n",
      " ['DiFranco, Megan']\n",
      " ['French, Coryn Marie']\n",
      " ['Meier, Meagan Lynn']\n",
      " ['Li, Zhuoer']]\n",
      "\n",
      "\n",
      "[['Warmolts, Kevin']\n",
      " ['Smith, Charles Luther Justice']\n",
      " ['Su, Chenxin']\n",
      " ['Sweik, Olivia Kathryn']\n",
      " ['Yang, Jesse Peiyuan']\n",
      " ['Alsharaf, Anwar']\n",
      " ['Dunn, Mia']]\n",
      "\n",
      "\n",
      "[['Fan, Angelina Jiangxue']\n",
      " ['Keating, Katarina Annette']\n",
      " ['Tyler, Corin']\n",
      " ['Bian, Jiangpan']\n",
      " ['Solaiyappan, Siddharth']\n",
      " ['Brand, Tabatha Marizi']\n",
      " ['Coelho Uchoa, Marianna']]\n",
      "\n",
      "\n"
     ]
    },
    {
     "ename": "ValueError",
     "evalue": "Sample larger than population or is negative",
     "output_type": "error",
     "traceback": [
      "\u001b[0;31m---------------------------------------------------------------------------\u001b[0m",
      "\u001b[0;31mValueError\u001b[0m                                Traceback (most recent call last)",
      "Cell \u001b[0;32mIn[4], line 6\u001b[0m\n\u001b[1;32m      4\u001b[0m \u001b[38;5;28;01mfor\u001b[39;00m i \u001b[38;5;129;01min\u001b[39;00m \u001b[38;5;28mrange\u001b[39m(\u001b[38;5;28mint\u001b[39m(\u001b[38;5;28mlen\u001b[39m(names)\u001b[38;5;241m/\u001b[39m\u001b[38;5;241m5\u001b[39m)):\n\u001b[1;32m      5\u001b[0m     names_list \u001b[38;5;241m=\u001b[39m names\u001b[38;5;241m.\u001b[39mindex\u001b[38;5;241m.\u001b[39mtolist()\n\u001b[0;32m----> 6\u001b[0m     r \u001b[38;5;241m=\u001b[39m np\u001b[38;5;241m.\u001b[39marray(random\u001b[38;5;241m.\u001b[39msample(names_list, \u001b[38;5;241m7\u001b[39m))\n\u001b[1;32m      7\u001b[0m     \u001b[38;5;28mprint\u001b[39m(names\u001b[38;5;241m.\u001b[39mloc[r]\u001b[38;5;241m.\u001b[39mvalues)\n\u001b[1;32m      8\u001b[0m     \u001b[38;5;28mprint\u001b[39m()\n",
      "File \u001b[0;32m/opt/anaconda3/lib/python3.12/random.py:430\u001b[0m, in \u001b[0;36mRandom.sample\u001b[0;34m(self, population, k, counts)\u001b[0m\n\u001b[1;32m    428\u001b[0m randbelow \u001b[38;5;241m=\u001b[39m \u001b[38;5;28mself\u001b[39m\u001b[38;5;241m.\u001b[39m_randbelow\n\u001b[1;32m    429\u001b[0m \u001b[38;5;28;01mif\u001b[39;00m \u001b[38;5;129;01mnot\u001b[39;00m \u001b[38;5;241m0\u001b[39m \u001b[38;5;241m<\u001b[39m\u001b[38;5;241m=\u001b[39m k \u001b[38;5;241m<\u001b[39m\u001b[38;5;241m=\u001b[39m n:\n\u001b[0;32m--> 430\u001b[0m     \u001b[38;5;28;01mraise\u001b[39;00m \u001b[38;5;167;01mValueError\u001b[39;00m(\u001b[38;5;124m\"\u001b[39m\u001b[38;5;124mSample larger than population or is negative\u001b[39m\u001b[38;5;124m\"\u001b[39m)\n\u001b[1;32m    431\u001b[0m result \u001b[38;5;241m=\u001b[39m [\u001b[38;5;28;01mNone\u001b[39;00m] \u001b[38;5;241m*\u001b[39m k\n\u001b[1;32m    432\u001b[0m setsize \u001b[38;5;241m=\u001b[39m \u001b[38;5;241m21\u001b[39m        \u001b[38;5;66;03m# size of a small set minus size of an empty list\u001b[39;00m\n",
      "\u001b[0;31mValueError\u001b[0m: Sample larger than population or is negative"
     ]
    }
   ],
   "source": [
    "names = pd.read_csv('/Users/ombadi/Desktop/Mo Files/Teaching/CLIMATE 480/Winter 2025/Class Roster.csv',\n",
    "                   header= None)\n",
    "# Random groups \n",
    "for i in range(int(len(names)/5)):\n",
    "    names_list = names.index.tolist()\n",
    "    r = np.array(random.sample(names_list, 7))\n",
    "    print(names.loc[r].values)\n",
    "    print()\n",
    "    print()\n",
    "    names = names.drop(r)\n",
    "    \n",
    "print(names.values)"
   ]
  }
 ],
 "metadata": {
  "kernelspec": {
   "display_name": "Python 3 (ipykernel)",
   "language": "python",
   "name": "python3"
  },
  "language_info": {
   "codemirror_mode": {
    "name": "ipython",
    "version": 3
   },
   "file_extension": ".py",
   "mimetype": "text/x-python",
   "name": "python",
   "nbconvert_exporter": "python",
   "pygments_lexer": "ipython3",
   "version": "3.12.4"
  }
 },
 "nbformat": 4,
 "nbformat_minor": 5
}
